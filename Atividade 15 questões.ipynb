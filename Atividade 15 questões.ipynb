{
 "cells": [
  {
   "cell_type": "code",
   "execution_count": 13,
   "metadata": {},
   "outputs": [
    {
     "name": "stdout",
     "output_type": "stream",
     "text": [
      "consoante.\n"
     ]
    }
   ],
   "source": [
    "# 1)Faça um programa que verifique se uma letra digitada é vogal ou consoante\n",
    "\n",
    "# Pedir a letra ao usuario \n",
    "letra = input(\"Digite uma letra: \")\n",
    "\n",
    "# analisa a resposta verificando se é vogal ou consoante\n",
    "if letra.lower() in ['a', 'e', 'i', 'o', 'u']:\n",
    "    print(\"vogal\")\n",
    "elif 'a' and  'z':\n",
    "    print(\"consoante.\")\n"
   ]
  },
  {
   "cell_type": "code",
   "execution_count": 15,
   "metadata": {},
   "outputs": [
    {
     "name": "stdout",
     "output_type": "stream",
     "text": [
      "Você deve comprar o terceiro produto.\n"
     ]
    }
   ],
   "source": [
    "# 2)Faça um programa que pergunte o preço de três produtos e informe qual produto você deve comprar, sabendo que a decisão é sempre pelo mais barato\n",
    "\n",
    "# Coleta o preço dos produtos\n",
    "preco1 = float(input(\"Digite o preço do primeiro produto: \"))\n",
    "preco2 = float(input(\"Digite o preço do segundo produto: \"))\n",
    "preco3 = float(input(\"Digite o preço do terceiro produto: \"))\n",
    "\n",
    "# Analisa e verifica o preço mais barato\n",
    "if preco1 < preco2 and preco1 < preco3:\n",
    "    print(\"Você deve comprar o primeiro produto.\")\n",
    "elif preco2 < preco1 and preco2 < preco3:\n",
    "    print(\"Você deve comprar o segundo produto.\")\n",
    "else:\n",
    "    print(\"Você deve comprar o terceiro produto.\")"
   ]
  },
  {
   "cell_type": "code",
   "execution_count": 16,
   "metadata": {},
   "outputs": [
    {
     "name": "stdout",
     "output_type": "stream",
     "text": [
      "Os números em ordem decrescente são: 3.0 2.0 1.0\n"
     ]
    }
   ],
   "source": [
    "# 3) Faça um programa que leia três números e mostre-os em ordem decrescente\n",
    "\n",
    "# Pede para o usuario 3 números\n",
    "numero1 = float(input(\"Digite o primeiro número: \"))\n",
    "numero2 = float(input(\"Digite o segundo número: \"))\n",
    "numero3 = float(input(\"Digite o terceiro número: \"))\n",
    "\n",
    "# Analisa os numeros\n",
    "if numero1 >= numero2 and numero1 >= numero3:\n",
    "    maior = numero1\n",
    "    if numero2 >= numero3:\n",
    "        meio = numero2\n",
    "        menor = numero3\n",
    "    else:\n",
    "        meio = numero3\n",
    "        menor = numero2\n",
    "elif numero2 >= numero1 and numero2 >= numero3:\n",
    "    maior = numero2\n",
    "    if numero1 >= numero3:\n",
    "        meio = numero1\n",
    "        menor = numero3\n",
    "    else:\n",
    "        meio = numero3\n",
    "        menor = numero1\n",
    "else:\n",
    "    maior = numero3\n",
    "    if numero1 >= numero2:\n",
    "        meio = numero1\n",
    "        menor = numero2\n",
    "    else:\n",
    "        meio = numero2\n",
    "        menor = numero1\n",
    "\n",
    "# Printa ele em forma decrescente\n",
    "print(\"Os números em ordem decrescente são:\", maior, meio, menor)"
   ]
  },
  {
   "cell_type": "code",
   "execution_count": 18,
   "metadata": {},
   "outputs": [
    {
     "name": "stdout",
     "output_type": "stream",
     "text": [
      "Boa noite!\n"
     ]
    }
   ],
   "source": [
    "# 4) Faça um programa que pergunte em que turno você estuda. Peça para digitar M-matutino ou V-Vespertino ou N-Noturno. Imprima a mensagem 'Bom dia', 'Boa Tarde' ou 'Valor Inválido', conforme o caso\n",
    "\n",
    "# Pede para o usuario digitar o seu turno \n",
    "turno = input(\"Em que turno você estuda? (M-matutino, V-vespertino, N-noturno): \")\n",
    "\n",
    "# verifica o turno e dá a msg com a base na hora\n",
    "if turno == 'M' or turno == 'm':\n",
    "    print(\"Bom dia!\")\n",
    "elif turno == 'V' or turno == 'v':\n",
    "    print(\"Boa tarde!\")\n",
    "elif turno == 'N' or turno == 'n':\n",
    "    print(\"Boa noite!\")\n",
    "else:\n",
    "    print(\"Valor inválido.\")"
   ]
  },
  {
   "cell_type": "code",
   "execution_count": 17,
   "metadata": {},
   "outputs": [
    {
     "name": "stdout",
     "output_type": "stream",
     "text": [
      "Segunda-feira\n"
     ]
    }
   ],
   "source": [
    "# 5) Faça um programa que leia um número e exiba o dia correspondente da semana (1-Domingo, 2-Segunda, etc.). Se for digitado outro valor deve retomar uma mensagem informado valor inválido\n",
    "\n",
    "# Pede o número ao usuario\n",
    "numero = int(input(\"Digite um número de 1 a 7: \"))\n",
    "\n",
    "# verifica o numero e diz o dia da semana\n",
    "if numero == 1:\n",
    "    print(\"Domingo\")\n",
    "elif numero == 2:\n",
    "    print(\"Segunda-feira\")\n",
    "elif numero == 3:\n",
    "    print(\"Terça-feira\")\n",
    "elif numero == 4:\n",
    "    print(\"Quarta-feira\")\n",
    "elif numero == 5:\n",
    "    print(\"Quinta-feira\")\n",
    "elif numero == 6:\n",
    "    print(\"Sexta-feira\")\n",
    "elif numero == 7:\n",
    "    print(\"Sábado\")\n",
    "else:\n",
    "    print(\"Valor inválido\")"
   ]
  },
  {
   "cell_type": "code",
   "execution_count": 19,
   "metadata": {},
   "outputs": [
    {
     "name": "stdout",
     "output_type": "stream",
     "text": [
      "Nota 1: 10.0\n",
      "Nota 2: 9.0\n",
      "Média: 9.5\n",
      "Conceito: A\n",
      "Aprovado\n"
     ]
    }
   ],
   "source": [
    "# 5.2) Faça um programa que lê as duas notas parciais obtidas por um aluno numa disciplina ao longo de um semestre, e calcule a sua média. A atribuição de conceito obedece ás regras:\n",
    "#O programa deve mostrar na tela as notas, a media , o conceito correspondente e a mensagem 'Aprovado' se o conceito for A, B ou C ou 'Reprovado' se o conceito for D ou E.\n",
    "\n",
    "#Pede a nota pro usuario\n",
    "nota1 = float(input(\"Digite a primeira nota: \"))\n",
    "nota2 = float(input(\"Digite a segunda nota: \"))\n",
    "\n",
    "# calculo da média\n",
    "media = (nota1 + nota2) / 2\n",
    "\n",
    "# define o conceito com base na media \n",
    "if media >= 9.0:\n",
    "    conceito = \"A\"\n",
    "elif media >= 7.5:\n",
    "    conceito = \"B\"\n",
    "elif media >= 6.0:\n",
    "    conceito = \"C\"\n",
    "elif media >= 4.0:\n",
    "    conceito = \"D\"\n",
    "else:\n",
    "    conceito = \"E\"\n",
    "\n",
    "# printa as notas, a media e o conceito\n",
    "print(f\"Nota 1: {nota1}\")\n",
    "print(f\"Nota 2: {nota2}\")\n",
    "print(f\"Média: {media}\")\n",
    "print(f\"Conceito: {conceito}\")\n",
    "\n",
    "#mostra se o aluno foi aprovado ou não\n",
    "if conceito in ['A', 'B', 'C']:\n",
    "    print(\"Aprovado\")\n",
    "else:\n",
    "    print(\"Reprovado\")"
   ]
  },
  {
   "cell_type": "code",
   "execution_count": 21,
   "metadata": {},
   "outputs": [
    {
     "name": "stdout",
     "output_type": "stream",
     "text": [
      "O ano 4 é bissexto.\n"
     ]
    }
   ],
   "source": [
    "# 6) Faça um programa que peça um número correspondente a um determinado ano e em seguida informe se este ano é ou não bissexto\n",
    "\n",
    "# Pede o ano ao usuario\n",
    "ano = int(input(\"Digite um ano: \"))\n",
    "\n",
    "# analisa se o ano é bissexto ou não\n",
    "if (ano % 4 == 0 and ano % 100 != 0) or (ano % 400 == 0):\n",
    "    print(f\"O ano {ano} é bissexto.\")\n",
    "else:\n",
    "    print(f\"O ano {ano} não é bissexto.\")"
   ]
  },
  {
   "cell_type": "code",
   "execution_count": null,
   "metadata": {},
   "outputs": [],
   "source": [
    "# 7) Faça um programa que leia 2 número e em seguida pergunte ao usuário qual operação básica(soma, subtração, multiplicação, divisão, exponenciação) ele deseja realizar. O resultado da operação deve ser acompanahdo de uam frase que diga se o número é; par ou ímpar; positivo ou negativo; inteiro ou decimal\n",
    "\n",
    "# Pede um numero ao usuario\n",
    "num1 = float(input(\"Digite o primeiro número: \"))\n",
    "num2 = float(input(\"Digite o segundo número: \"))\n",
    "\n",
    "# pergunta qual operação vai ser executada\n",
    "operacao = input(\"Escolha a operação (soma, subtração, multiplicação, divisão, exponenciação): \")\n",
    "\n",
    "# faz a operação selecionado pelo o usuario\n",
    "if operacao == 'soma':\n",
    "    resultado = num1 + num2\n",
    "elif operacao == 'subtração':\n",
    "    resultado = num1 - num2\n",
    "elif operacao == 'multiplicação':\n",
    "    resultado = num1 * num2\n",
    "elif operacao == 'divisão':\n",
    "    resultado = num1 / num2\n",
    "elif operacao == 'exponenciação':\n",
    "    resultado = num1 ** num2\n",
    "else:\n",
    "    print(\"Operação inválida.\")\n",
    "\n",
    "# analisa se é par ou impar\n",
    "if resultado % 2 == 0:\n",
    "    par_ou_impar = \"par\"\n",
    "else:\n",
    "    par_ou_impar = \"ímpar\"\n",
    "\n",
    "# analisa se é positivo ou negativo\n",
    "if resultado >= 0:\n",
    "    positivo_ou_negativo = \"positivo\"\n",
    "else:\n",
    "    positivo_ou_negativo = \"negativo\"\n",
    "\n",
    "# verifica se é decimal ou inteiro\n",
    "if resultado.is_integer():\n",
    "    inteiro_ou_decimal = \"inteiro\"\n",
    "else:\n",
    "    inteiro_ou_decimal = \"decimal\"\n",
    "\n",
    "# printa o resultado e as caracteristicas do resultado\n",
    "print(f\"O resultado da operação é: {resultado}\")\n",
    "print(f\"O resultado é {par_ou_impar}, {positivo_ou_negativo} e {inteiro_ou_decimal}.\")"
   ]
  },
  {
   "cell_type": "code",
   "execution_count": null,
   "metadata": {},
   "outputs": [],
   "source": [
    "# 8) faça um programa que peça a idade e exiba a informação. Os valores aceitáveis deve estar entre 0 e 150. Valores fora desse limite não poderão ser aceitos\n",
    "\n",
    "# pede que o usuario forneça a idade\n",
    "idade = int(input(\"Digite sua idade: \"))\n",
    "\n",
    "# analisa se a idade está dentro do intervalo aceitavel\n",
    "if 0 <= idade <= 150:\n",
    "    print(f\"Sua idade é {idade}.\")\n",
    "else:\n",
    "    print(\"Valor inválido. A idade deve estar entre 0 e 150 anos.\")"
   ]
  },
  {
   "cell_type": "code",
   "execution_count": null,
   "metadata": {},
   "outputs": [],
   "source": [
    "# 9) Utilizando estruturas de repetição e listas(com ou sem .append), faça um programa que leia 5 números e informe a soma e média dos números.\n",
    "\n",
    "# variáveis para armazenar a soma e a quantidade de números\n",
    "soma = 0\n",
    "quantidade_numeros = 5\n",
    "\n",
    "# loop para ler os 5 números e calcular a soma\n",
    "for i in range(quantidade_numeros):\n",
    "    numero = float(input(f\"Digite o {i+1}º número: \"))\n",
    "    soma += numero  # Adiciona o número à soma\n",
    "\n",
    "# calcula a média\n",
    "media = soma / quantidade_numeros\n",
    "\n",
    "# exibe a soma e a média\n",
    "print(f\"A soma dos números é: {soma}\")\n",
    "print(f\"A média dos números é: {media}\")"
   ]
  },
  {
   "cell_type": "code",
   "execution_count": 24,
   "metadata": {},
   "outputs": [
    {
     "name": "stdout",
     "output_type": "stream",
     "text": [
      "O número 10 não é primo.\n",
      "O número 10 não é primo.\n",
      "O número 10 é primo.\n"
     ]
    }
   ],
   "source": [
    "# 10) faça um programa que peça um número inteiro e determine se ele é ou não um número primo. Um número primo é aquele que é divisível somente por ele mesmo e por 1\n",
    "\n",
    "# pede um numero inteiro ao usuario\n",
    "numero = int(input(\"Digite um número inteiro: \"))\n",
    "\n",
    "# analisa se o numero é primo\n",
    "if numero > 1:\n",
    "    # Loop para verificar se o número é divisível por algum número além de 1 e ele mesmo\n",
    "    for i in range(2, numero):\n",
    "        if (numero % i) == 0:\n",
    "            print(f\"O número {numero} não é primo.\")\n",
    "            \n",
    "    else:\n",
    "        print(f\"O número {numero} é primo.\")\n",
    "else:\n",
    "    print(f\"O número {numero} não é primo.\")"
   ]
  },
  {
   "cell_type": "code",
   "execution_count": null,
   "metadata": {},
   "outputs": [],
   "source": [
    "# 11) O Departamento Estadula de metereologia lhe contratou para desenvolver um programa que leia 5 temperaturas e informe ao final a menor e a maior temperaturas informadas, bem como a média das temperaturas.\n",
    "\n",
    "# variáveis para armazenar a soma, a menor e a maior temperatura\n",
    "soma_temp = 0\n",
    "maior_temp = float('-inf')  # Inicializa com o menor valor possível\n",
    "menor_temp = float('inf')   # Inicializa com o maior valor possível\n",
    "quantidade_temp = 5\n",
    "\n",
    "# loop para ler as 5 temperaturas\n",
    "for i in range(quantidade_temp):\n",
    "    temp = float(input(f\"Digite a {i+1}ª temperatura: \"))\n",
    "    \n",
    "    \n",
    "    soma_temp += temp\n",
    "    \n",
    "    # analisa qual temperatura é a maior e a menor até agora\n",
    "    if temp > maior_temperatura:\n",
    "        maior_temperatura = temp\n",
    "    if temp < menor_temperatura:\n",
    "        menor_temperatura = temp\n",
    "\n",
    "# faz a media da temperatura\n",
    "media_temp = soma_temperaturas / quantidade_temperaturas\n",
    "\n",
    "# mostra a menor, a maior temperatura e a média\n",
    "print(f\"A menor temperatura foi: {menor_temp}\")\n",
    "print(f\"A maior temperatura foi: {maior_temp}\")\n",
    "print(f\"A média das temperaturas foi: {media_temp}\")"
   ]
  },
  {
   "cell_type": "code",
   "execution_count": null,
   "metadata": {},
   "outputs": [],
   "source": [
    "# 12) Um banco concederá um crédito especial aos seus cliente, variável com o saldo médio no último ano. Faça um algorítmo que leia o saldo médio de um cliente e calcule o valor do crédito de acordo com a tabela abaixo. Mostre uma mensagem informando o saldo médio e o valor do crédito\n",
    "\n",
    "# pede o saldo médio do usuario\n",
    "s_medio = float(input(\"Digite o saldo médio do cliente: \"))\n",
    "\n",
    "# calcula o credito com base na tabela\n",
    "if saldo_medio >= 0 and s_medio <= 200:\n",
    "    v_credito = 0\n",
    "elif saldo_medio <= 400:\n",
    "    v_credito = s_medio * 0.20\n",
    "elif saldo_medio <= 600:\n",
    "    v_credito = s_medio * 0.30\n",
    "else:\n",
    "    v_credito = s_medio * 0.40\n",
    "\n",
    "# mostra o saldo medio e o credito\n",
    "print(f\"O saldo médio do cliente é: R${s_medio:.2f}\")\n",
    "print(f\"O valor do crédito é: R${v_credito:.2f}\")"
   ]
  },
  {
   "cell_type": "code",
   "execution_count": null,
   "metadata": {},
   "outputs": [],
   "source": [
    "# 13) Você foi contratado(a) para fazer um serviço para o INSS(instituto Nacional do Seguro Social) do Brasil. O trabalho consiste em criar um programa que diga a pessoa o ano que ela poderá se aposentar. Você deve perguntar a pessoa, o nome, a idade e criar uma mensagem dizendo em qual ano ela irá aposentar. Considere que todas as pessoas poderão se aposentar ao 65 anos de idade(rs).\n",
    "\n",
    "# pede o nome e a idade do usuario\n",
    "nome = input(\"Digite seu nome: \")\n",
    "idade = int(input(\"Digite sua idade: \"))\n",
    "\n",
    "# idade minima da aposentadoria \n",
    "idade_minima = 65\n",
    "\n",
    "# mostra o ano que a pessoa poderá se aposentar \n",
    "ano_aposentadoria = 2024 + (idade_minima - idade)\n",
    "\n",
    "# mensagem com o nome, idade e ano de aposentadoria\n",
    "print(f\"Olá, {nome}! Com {idade} anos, você poderá se aposentar no ano de {ano_aposentadoria}.\")\n"
   ]
  },
  {
   "cell_type": "code",
   "execution_count": null,
   "metadata": {},
   "outputs": [],
   "source": [
    "# 14) Faça um programa para o cálculo de uma folha de pagamento, sabendo que o descontos são do imposto de Renda, que depende do salário bruto (conforme tabela abaixo), 3% para o sindicato e que o FGTS corresponde a 11% do salário bruto, mas não é descontado (é a empresa que deposita). O salário líquido corresponde ao salário bruto menos ao descontos. O programa devera pedir ao usuario o valor da sua hora e a quantidade de horas trabalhadas no mês.\n",
    "\n",
    "# valor da hora de trabalho e a quantidade de horas trabalhadas\n",
    "valor_hora = float(input(\"Digite o valor da sua hora de trabalho: \"))\n",
    "horas_trabalhadas = float(input(\"Digite a quantidade de horas trabalhadas no mês: \"))\n",
    "\n",
    "# calcula o salario bruto\n",
    "salario_bruto = valor_hora * horas_trabalhadas\n",
    "\n",
    "# desconto do imposto de renda\n",
    "if salario_bruto <= 2112.00:\n",
    "    desconto_ir = 0\n",
    "elif salario_bruto <= 2826.65:\n",
    "    desconto_ir = salario_bruto * 0.075\n",
    "elif salario_bruto <= 3751.05:\n",
    "    desconto_ir = salario_bruto * 0.15\n",
    "elif salario_bruto <= 4664.68:\n",
    "    desconto_ir = salario_bruto * 0.225\n",
    "else:\n",
    "    desconto_ir = salario_bruto * 0.275\n",
    "\n",
    "# desconto do sindicato\n",
    "desconto_sindicato = salario_bruto * 0.03\n",
    "\n",
    "# valor do FGTS\n",
    "fgts = salario_bruto * 0.11\n",
    "\n",
    "# salário líquido\n",
    "salario_liquido = salario_bruto - desconto_ir - desconto_sindicato\n",
    "\n",
    "# resultados\n",
    "print(f\"Salário Bruto: R$ {salario_bruto:.2f}\")\n",
    "print(f\"Desconto do Imposto de Renda: R$ {desconto_ir:.2f}\")\n",
    "print(f\"Desconto do Sindicato: R$ {desconto_sindicato:.2f}\")\n",
    "print(f\"FGTS: R$ {fgts:.2f}\")\n",
    "print(f\"Salário Líquido: R$ {salario_liquido:.2f}\")"
   ]
  }
 ],
 "metadata": {
  "kernelspec": {
   "display_name": "Python 3",
   "language": "python",
   "name": "python3"
  },
  "language_info": {
   "codemirror_mode": {
    "name": "ipython",
    "version": 3
   },
   "file_extension": ".py",
   "mimetype": "text/x-python",
   "name": "python",
   "nbconvert_exporter": "python",
   "pygments_lexer": "ipython3",
   "version": "3.11.9"
  }
 },
 "nbformat": 4,
 "nbformat_minor": 2
}
